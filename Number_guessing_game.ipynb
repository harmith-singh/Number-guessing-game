{
  "nbformat": 4,
  "nbformat_minor": 0,
  "metadata": {
    "colab": {
      "name": "Number guessing game.ipynb",
      "provenance": [],
      "authorship_tag": "ABX9TyOFOP17j8t1njS1f+2rIhaS",
      "include_colab_link": true
    },
    "kernelspec": {
      "name": "python3",
      "display_name": "Python 3"
    },
    "language_info": {
      "name": "python"
    }
  },
  "cells": [
    {
      "cell_type": "markdown",
      "metadata": {
        "id": "view-in-github",
        "colab_type": "text"
      },
      "source": [
        "<a href=\"https://colab.research.google.com/github/harmith-singh/Number-guessing-game/blob/main/Number_guessing_game.ipynb\" target=\"_parent\"><img src=\"https://colab.research.google.com/assets/colab-badge.svg\" alt=\"Open In Colab\"/></a>"
      ]
    },
    {
      "cell_type": "markdown",
      "source": [
        "**Task:** Below are the steps:\n",
        "\n",
        "Build a Number guessing game, in which the user selects a range.\n",
        "Let’s say User selected a range, i.e., from A to B, where A and B belong to Integer.\n",
        "Some random integer will be selected by the system and the user has to guess that integer in the minimum number of guesses"
      ],
      "metadata": {
        "id": "sPYAyxgs-Abo"
      }
    },
    {
      "cell_type": "markdown",
      "source": [
        "**Analysis**:\n",
        "\n",
        "Explanation 1: If the User inputs range, let’s say from 1 to 100. And compiler randomly selected 42 as the integer. And now the guessing game started, so the user entered 50 as his/her first guess. The compiler shows “Try Again! You guessed too high”. That’s mean the random number (i.e., 42) doesn’t fall in the range from 50 to 100. That’s the importance of guessing half of the range. And again, the user guesses half of 50 (Could you tell me why?). So the half of 50 is 25. The user enters 25 as his/her second guess. This time compiler will show, “Try Again! You guessed too small”. That’s mean the integers less than 25 (from 1 to 25) are useless to be guessed. Now the range for user guessing is shorter, i.e., from 25 to 50. Intelligently! The user guessed half of this range, so that, user guessed 37 as his/her third guess.  This time again the compiler shows the output, “Try Again! You guessed too small”. For the user, the guessing range is getting smaller by each guess. Now, the guessing range for user is from 37 to 50, for which the user guessed 43 as his/her fourth guess. This time the compiler will show an output “Try Again! You guessed too high”. So, the new guessing range for users will be from 37 to 43, again for which the user guessed the half of this range, that is, 40 as his/her fifth guess.  This time the compiler shows the output, “Try Again! You guessed too small”. Leaving the guess even smaller such that from 41 to 43. And now the user guessed 41 as his/her sixth guess. Which is wrong and shows output “Try Again! You guessed too small”. And finally, the User Guessed the right number which is 42 as his/her seventh guess.\n",
        "\n",
        "          Total Number of Guesses = 7\n",
        "\n",
        "Explanation 2: If the User inputs range, let’s say from 1 to 50. And compiler randomly selected 42 as the integer. And now the guessing game started. So the half of 50 is 25. The user enters 25 as his/her First guess. This time compiler will show, “Try Again! You guessed too small”. That’s mean the integers less than 25 (from 1 to 25) are useless to be guessed. Now the range for user guessing is shorter, i.e., from 25 to 50. Intelligently! User guessed half of this range, so that, user guessed 37 as his/her second guess.  This time again the compiler shows the output, “Try Again! You guessed too small”. For the user, the guessing range is getting smaller by each guess. Now, the guessing range for user is from 37 to 50, for which the user guessed 43 as his/her third guess. This time the compiler will show an output “Try Again! You guessed too high”. So, the new guessing range for users will be from 37 to 43, again for which the user guessed the half of this range, that is, 40 as his/her fourth guess.  This time the compiler shows the output, “Try Again! You guessed too small”. Leaving the guess even smaller such that from 41 to 43. And now the user guessed 41 as his/her fifth guess. Which is wrong and shows output “Try Again! You guessed too small”. And finally, the User Guessed the right number which is 42 as his/her sixth guess.\n",
        "\n",
        "         Total Number of Guesses = 6\n",
        "\n",
        "So, the minimum number of guesses depends upon range. And the compiler must calculate the minimum number of guessing depends upon the range, on its own. For this, we have a formula:-\n",
        "\n",
        "         Minimum number of guessing = log2(Upper bound – lower bound + 1)"
      ],
      "metadata": {
        "id": "OiwE8tam-pfB"
      }
    },
    {
      "cell_type": "markdown",
      "source": [
        "**Algorithm:** \n",
        "\n",
        "Below are the Steps:\n",
        "\n",
        "\n",
        "1. User inputs the lower bound and upper bound of the range.\n",
        "2. The compiler generates a random integer between the range and store it in a variable for future references.\n",
        "3. For repetitive guessing, a while loop will be initialized.\n",
        "4. If the user guessed a number which is greater than a randomly selected number, the user gets an output “Try Again! You guessed too high“\n",
        "5. Else If the user guessed a number which is smaller than a randomly selected number, the user gets an output “Try Again! You guessed too small”\n",
        "6. And if the user guessed in a minimum number of guesses, the user gets a “Congratulations! ” Output.\n",
        "7. Else if the user didn’t guess the integer in the minimum number of guesses, he/she will get “Better Luck Next Time!” output."
      ],
      "metadata": {
        "id": "aVFGMW9T_q2T"
      }
    },
    {
      "cell_type": "markdown",
      "source": [
        "#My try:"
      ],
      "metadata": {
        "id": "8vpx8LiV-0wr"
      }
    },
    {
      "cell_type": "code",
      "execution_count": 28,
      "metadata": {
        "colab": {
          "base_uri": "https://localhost:8080/"
        },
        "id": "vsJ8tElO9uBe",
        "outputId": "ac101f51-7918-490c-eeb5-af68e00218f9"
      },
      "outputs": [
        {
          "output_type": "stream",
          "name": "stdout",
          "text": [
            "Enter the lower bound: 23\n",
            "Enter the upper bound: 44\n",
            "You have 5 chances to guess the number...\n",
            "Guess the number: 30\n",
            "Wow...You guessed correctly!\n"
          ]
        }
      ],
      "source": [
        "import random\n",
        "import numpy as np\n",
        "\n",
        "\n",
        "lower_bound = int(input('Enter the lower bound: '))\n",
        "upper_bound = int(input('Enter the upper bound: '))\n",
        "\n",
        "obj_num = random.randint(lower_bound, upper_bound)\n",
        "#print(obj_num)\n",
        "\n",
        "min_guess = int(np.ceil(np.log2(upper_bound - lower_bound + 1)))\n",
        "print('You have {} chances to guess the number...'.format(min_guess))\n",
        "\n",
        "guessed = False\n",
        "\n",
        "for i in range(min_guess):\n",
        "  guess = int(input('Guess the number: '))\n",
        "  if guess > obj_num:\n",
        "    print('Too high')\n",
        "  elif guess < obj_num:\n",
        "    print('Too low')\n",
        "  elif guess == obj_num:\n",
        "    print('Wow...You guessed correctly!')\n",
        "    guessed = True\n",
        "    break\n",
        "\n",
        "if guessed == False:\n",
        "  print('Sorry the number was {}. You failed to guess in min. no. of tries.'.format(obj_num))"
      ]
    },
    {
      "cell_type": "markdown",
      "source": [
        "#Official solution:"
      ],
      "metadata": {
        "id": "GmUjXZsKFf_I"
      }
    },
    {
      "cell_type": "code",
      "source": [
        "import random\n",
        "import math\n",
        "# Taking Inputs\n",
        "lower = int(input(\"Enter Lower bound:- \"))\n",
        " \n",
        "# Taking Inputs\n",
        "upper = int(input(\"Enter Upper bound:- \"))\n",
        " \n",
        "# generating random number between\n",
        "# the lower and upper\n",
        "x = random.randint(lower, upper)\n",
        "print(\"\\n\\tYou've only \",\n",
        "       round(math.log(upper - lower + 1, 2)),\n",
        "      \" chances to guess the integer!\\n\")\n",
        " \n",
        "# Initializing the number of guesses.\n",
        "count = 0\n",
        " \n",
        "# for calculation of minimum number of\n",
        "# guesses depends upon range\n",
        "while count < math.log(upper - lower + 1, 2):\n",
        "    count += 1\n",
        " \n",
        "    # taking guessing number as input\n",
        "    guess = int(input(\"Guess a number:- \"))\n",
        " \n",
        "    # Condition testing\n",
        "    if x == guess:\n",
        "        print(\"Congratulations you did it in \",\n",
        "              count, \" try\")\n",
        "        # Once guessed, loop will break\n",
        "        break\n",
        "    elif x > guess:\n",
        "        print(\"You guessed too small!\")\n",
        "    elif x < guess:\n",
        "        print(\"You Guessed too high!\")\n",
        " \n",
        "# If Guessing is more than required guesses,\n",
        "# shows this output.\n",
        "if count >= math.log(upper - lower + 1, 2):\n",
        "    print(\"\\nThe number is %d\" % x)\n",
        "    print(\"\\tBetter Luck Next time!\")"
      ],
      "metadata": {
        "colab": {
          "base_uri": "https://localhost:8080/"
        },
        "id": "i1gxlgmoFfnR",
        "outputId": "ab50d2b3-e721-4a0f-cbf2-319485f556be"
      },
      "execution_count": 12,
      "outputs": [
        {
          "output_type": "stream",
          "name": "stdout",
          "text": [
            "Enter Lower bound:- 12\n",
            "Enter Upper bound:- 23\n",
            "\n",
            "\tYou've only  4  chances to guess the integer!\n",
            "\n",
            "Guess a number:- 32\n",
            "You Guessed too high!\n",
            "Guess a number:- 12\n",
            "You guessed too small!\n",
            "Guess a number:- 33\n",
            "You Guessed too high!\n",
            "Guess a number:- 10\n",
            "You guessed too small!\n",
            "\n",
            "The number is 18\n",
            "\tBetter Luck Next time!\n"
          ]
        }
      ]
    },
    {
      "cell_type": "markdown",
      "source": [
        "#My refined try:"
      ],
      "metadata": {
        "id": "bbWRV-xMHDz3"
      }
    },
    {
      "cell_type": "code",
      "source": [
        "import random\n",
        "import numpy as np\n",
        "\n",
        "bounds_validated = False\n",
        "#stopping non-integer inputs for lower and upper bounds:\n",
        "try:\n",
        "  lower_bound = int(input('Enter the lower bound: '))\n",
        "  upper_bound = int(input('Enter the upper bound: '))\n",
        "\n",
        "  #validating if upper_bound > lower_bound:\n",
        "  if upper_bound <= lower_bound:\n",
        "    print('Upper bound has to be strictly greater then lower bound. Try again.')\n",
        "  else:\n",
        "    bounds_validated = True\n",
        "\n",
        "except:\n",
        "  print('Please enter valid inputs for lower and upper bound. Try again.')\n",
        "\n",
        "\n",
        "\n",
        "\n",
        "if bounds_validated:\n",
        "  obj_num = random.randint(lower_bound, upper_bound)\n",
        "\n",
        "  min_guess = int(np.ceil(np.log2(upper_bound - lower_bound + 1)))\n",
        "  print('You have {} chances to guess the number...'.format(min_guess))\n",
        "\n",
        "  guessed = False\n",
        "\n",
        "\n",
        "\n",
        "  for i in range(min_guess):\n",
        "\n",
        "    #validating whether the guessed number is a valid integer or not\n",
        "    while True:\n",
        "      try:\n",
        "        guess = int(input('Guess the number: '))\n",
        "        break\n",
        "      except:\n",
        "        print('Enter a valid guess. Try again.')\n",
        "\n",
        "    if guess > obj_num:\n",
        "      print('Too high')\n",
        "    elif guess < obj_num:\n",
        "      print('Too low')\n",
        "    elif guess == obj_num:\n",
        "      print('Wow...You guessed correctly!')\n",
        "      guessed = True\n",
        "      break\n",
        "\n",
        "  if guessed == False:\n",
        "    print('Sorry the number was {}. You failed to guess in min. no. of tries.'.format(obj_num))"
      ],
      "metadata": {
        "colab": {
          "base_uri": "https://localhost:8080/"
        },
        "id": "OByNzs1hHC6v",
        "outputId": "c6a95d43-1c22-4511-e8ea-bad7aaee5572"
      },
      "execution_count": 32,
      "outputs": [
        {
          "output_type": "stream",
          "name": "stdout",
          "text": [
            "Enter the lower bound: 23\n",
            "Enter the upper bound: 54\n",
            "You have 5 chances to guess the number...\n",
            "Guess the number: 1\n",
            "Too low\n",
            "Guess the number: 1\n",
            "Too low\n",
            "Guess the number: \n",
            "Enter a valid guess. Try again.\n",
            "Guess the number: 1\n",
            "Too low\n",
            "Guess the number: 1\n",
            "Too low\n",
            "Guess the number: 1\n",
            "Too low\n",
            "Sorry the number was 38. You failed to guess in min. no. of tries.\n"
          ]
        }
      ]
    }
  ]
}